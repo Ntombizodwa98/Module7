{
 "cells": [
  {
   "cell_type": "code",
   "execution_count": null,
   "metadata": {},
   "outputs": [],
   "source": [
    "#FACE DETECTION\n",
    "import cv2\n",
    "import os\n",
    "\n",
    "\n",
    "faceCascade = cv2.CascadeClassifier('haarcascade_frontalface_default.xml')\n",
    "\n",
    "img = cv2.imread('beyonce.jpg', 1)\n",
    "\n",
    "grayimage = cv2.cvtColor(img, cv2.COLOR_BGR2GRAY)\n",
    "\n",
    "faces = faceCascade.detectMultiScale(img, scaleFactor = 1.05, minNeighbors =5)\n",
    "\n",
    "for (x,y,w,h) in faces:\n",
    "    img = cv2.rectangle(img, (x,y), (x+w, y+h), (0,255,0),3)\n",
    "    \n",
    "\n",
    "resized = cv2.resize(img, (int(img.shape[1]*2), int(img.shape[0]*2)))\n",
    "\n",
    "cv2.imshow(\"beyonce\", resized)\n",
    "cv2.waitKey(0)\n",
    "\n",
    "cv2.destroyAllWindows()\n",
    "\n",
    "\n",
    "    \n"
   ]
  },
  {
   "cell_type": "code",
   "execution_count": 8,
   "metadata": {},
   "outputs": [
    {
     "name": "stdout",
     "output_type": "stream",
     "text": [
      "1047\n"
     ]
    }
   ],
   "source": [
    "#VIDEO CAPTURING\n",
    "import cv2\n",
    "import time\n",
    "\n",
    "video = cv2.VideoCapture(0)\n",
    "\n",
    "a = 1\n",
    "\n",
    "while True:\n",
    "    a = a + 1\n",
    "    check, frame = video.read()\n",
    "    \n",
    "    gray = cv2.cvtColor(frame, cv2.COLOR_BGR2GRAY)\n",
    "    \n",
    "    cv2.imshow('capturing', gray)\n",
    "    \n",
    "    key = cv2.waitKey(1)\n",
    "    \n",
    "    if key == ord('q'):\n",
    "        break\n",
    "print(a)\n",
    "video.release()\n",
    "cv2.destroyAllWindows()"
   ]
  },
  {
   "cell_type": "code",
   "execution_count": 7,
   "metadata": {},
   "outputs": [
    {
     "ename": "SyntaxError",
     "evalue": "invalid syntax (<ipython-input-7-f9cec1534f99>, line 58)",
     "output_type": "error",
     "traceback": [
      "\u001b[1;36m  File \u001b[1;32m\"<ipython-input-7-f9cec1534f99>\"\u001b[1;36m, line \u001b[1;32m58\u001b[0m\n\u001b[1;33m    df =df.append(('Start':times[i], 'End':times[i+1]),ignore_index = True)\u001b[0m\n\u001b[1;37m                          ^\u001b[0m\n\u001b[1;31mSyntaxError\u001b[0m\u001b[1;31m:\u001b[0m invalid syntax\n"
     ]
    }
   ],
   "source": [
    "import cv2\n",
    "import datetime\n",
    "import pandas\n",
    "\n",
    "first_frame = None\n",
    "\n",
    "staust_list =[None, None]\n",
    "\n",
    "times = []\n",
    "\n",
    "df= pandas.DataFrame(columns= [\"Start\", \"End\"])\n",
    "\n",
    "video = cv2.VideoCapture(0)\n",
    "\n",
    "\n",
    "while True:\n",
    "    check, frame = video.read()\n",
    "    \n",
    "     status = 0\n",
    "        \n",
    "    gray = cv2.cvtColor(frame, cv2.COLOR_BGR2GRAY)\n",
    "    \n",
    "    gray - cv2.GaussianBlur(gray,(21,21), 0)\n",
    "    \n",
    "    if first_frame is None:\n",
    "        first_frame = gray\n",
    "        continue\n",
    "        \n",
    "delta_frame = cv2.absdiff(first_frame, gray)\n",
    "\n",
    "thresh_delta = cv2.threshold(delta_frame, 30,255, cv2.THRESH_BINARY)[1]\n",
    "\n",
    "thresh_delta = cv2.dilate(thresh_delta, None, iterations=0)\n",
    "\n",
    "(_,cnts,_) = cv2.findContours(thresh_delta.copy(), cv2.RETR_EXTERNAL, cv2.CHAIN_APPROX_SAMPLE)\n",
    "\n",
    "for contour in cnts:\n",
    "    if cv2.contourArea(contour) < 1000:\n",
    "        continue\n",
    "        \n",
    "    status = 1\n",
    "    \n",
    "    (x,y,w,h) = cv2.boundingRect(contour)\n",
    "    cv2.rectangle(frame, (x,y), (x+w, y+h), (0,255,0), 3)\n",
    "    \n",
    "    \n",
    "status_list.append(status)\n",
    "\n",
    "if status_list[-1] == 1 and status_list[-2] == 0:\n",
    "    times.append(datetime.now())\n",
    "\n",
    "if statust_list[-1]  == 0 and status_list[-2] == 1:\n",
    "    times.append(datetime.now())\n",
    "\n",
    "print(status_list)\n",
    "print(times)\n",
    "\n",
    "for i range(0, len(times), 2):\n",
    "    df =df.appemd(('Start': times[i+1]),ignore_index = True)\n",
    "    cv2.imshow('frame', frame)\n",
    "    cv2.imshow('capturing', gray)\n",
    "    cv2.imshow('delta', delta,frame)\n",
    "    cv2.imshow('thresh', thresh_delta)\n",
    "    \n",
    "    key = cv2.waitKey(1)\n",
    "    \n",
    "    if key == ord('q'):\n",
    "        break\n",
    "print(a)\n",
    "video.release()\n",
    "cv2.destroyAllWindows()"
   ]
  },
  {
   "cell_type": "code",
   "execution_count": null,
   "metadata": {},
   "outputs": [],
   "source": []
  },
  {
   "cell_type": "code",
   "execution_count": null,
   "metadata": {},
   "outputs": [],
   "source": []
  }
 ],
 "metadata": {
  "kernelspec": {
   "display_name": "Python 3",
   "language": "python",
   "name": "python3"
  },
  "language_info": {
   "codemirror_mode": {
    "name": "ipython",
    "version": 3
   },
   "file_extension": ".py",
   "mimetype": "text/x-python",
   "name": "python",
   "nbconvert_exporter": "python",
   "pygments_lexer": "ipython3",
   "version": "3.8.3"
  }
 },
 "nbformat": 4,
 "nbformat_minor": 4
}
